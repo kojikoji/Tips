{
 "cells": [
  {
   "cell_type": "markdown",
   "metadata": {
    "ein.tags": "worksheet-0",
    "slideshow": {
     "slide_type": "-"
    }
   },
   "source": [
    "# Magit\n",
    "Emacsのgit操作ツールmagitをインストールする\n",
    "以下のサイトを参考にさせてもらった  \n",
    "https://qiita.com/maueki/items/70dbf62d8bd2ee348274  \n",
    "以下の点で使い勝手が良い\n",
    "- emacsの操作でbranch,commit,push等が行える\n",
    "- どのファイルがどのような状態かが簡単に把握できる\n"
   ]
  }
 ],
 "metadata": {
  "kernelspec": {
   "display_name": "R",
   "name": "ir"
  },
  "name": "Magit.ipynb"
 },
 "nbformat": 4,
 "nbformat_minor": 2
}
