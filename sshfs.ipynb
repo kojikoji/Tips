{
 "cells": [
  {
   "cell_type": "markdown",
   "metadata": {
    "ein.tags": "worksheet-0",
    "slideshow": {
     "slide_type": "-"
    }
   },
   "source": [
    "# sshfsの導入\n",
    "リモート環境をローカルにマウントすることで、リモート環境とのデータやソースのやりとりを省略する\n",
    "以下のサイトを参考にさせていただいた\n",
    "https://qiita.com/ysk24ok/items/bb148530a55a4e55d99b  \n",
    "以下のコマンドはそれぞれmountshiroとunmountshiroというシェルスクリプトによって手軽に実行できるようにした。  \n",
    "これにより白金の作業フォルダが簡単にマウントできるようになった\n",
    "\n",
    "``` shell-session:mountshiro\n",
    "sshfs ykojima@s3:/home/ykojima/Projects/ /Users/kojimayasuhiro/Projects/shirokane -o reconnect\n",
    "```\n",
    "\n",
    "``` shell-session:unmountshiro\n",
    "diskutil unmount /Users/kojimayasuhiro/Projects/shirokane\n",
    "```\n",
    "\n",
    "特に一つ目のコマンドは、起動時に実行されるようにした"
   ]
  }
 ],
 "metadata": {
  "kernelspec": {
   "display_name": "R",
   "name": "ir"
  },
  "name": "sshfs.ipynb"
 },
 "nbformat": 4,
 "nbformat_minor": 2
}
